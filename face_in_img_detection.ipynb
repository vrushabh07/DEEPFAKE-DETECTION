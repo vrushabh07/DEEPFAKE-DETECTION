{
 "cells": [
  {
   "cell_type": "code",
   "execution_count": 5,
   "id": "e347c521",
   "metadata": {},
   "outputs": [
    {
     "name": "stderr",
     "output_type": "stream",
     "text": [
      "ERROR: Could not find a version that satisfies the requirement opencv (from versions: none)\n",
      "ERROR: No matching distribution found for opencv\n"
     ]
    }
   ],
   "source": [
    "!pip install opencv"
   ]
  },
  {
   "cell_type": "code",
   "execution_count": 1,
   "id": "8f505a2d",
   "metadata": {},
   "outputs": [],
   "source": [
    "import cv2 \n",
    "import numpy as np"
   ]
  },
  {
   "cell_type": "code",
   "execution_count": 2,
   "id": "724b0dd0",
   "metadata": {},
   "outputs": [],
   "source": [
    "img = cv2.imread(\"C:\\\\Users\\\\shrim\\\\OneDrive\\\\Desktop\\\\trum.jpg\",1)"
   ]
  },
  {
   "cell_type": "code",
   "execution_count": 3,
   "id": "12150fe5",
   "metadata": {},
   "outputs": [
    {
     "data": {
      "text/plain": [
       "array([[[81, 92, 82],\n",
       "        [81, 92, 82],\n",
       "        [81, 92, 82],\n",
       "        ...,\n",
       "        [80, 91, 83],\n",
       "        [79, 90, 82],\n",
       "        [75, 86, 78]],\n",
       "\n",
       "       [[81, 92, 82],\n",
       "        [81, 92, 82],\n",
       "        [81, 92, 82],\n",
       "        ...,\n",
       "        [80, 91, 83],\n",
       "        [79, 90, 82],\n",
       "        [75, 86, 78]],\n",
       "\n",
       "       [[81, 92, 82],\n",
       "        [81, 92, 82],\n",
       "        [80, 91, 81],\n",
       "        ...,\n",
       "        [80, 91, 83],\n",
       "        [79, 90, 82],\n",
       "        [75, 86, 78]],\n",
       "\n",
       "       ...,\n",
       "\n",
       "       [[ 6,  3,  0],\n",
       "        [ 6,  3,  0],\n",
       "        [ 6,  3,  0],\n",
       "        ...,\n",
       "        [ 8,  4,  3],\n",
       "        [ 7,  3,  2],\n",
       "        [ 8,  3,  2]],\n",
       "\n",
       "       [[ 6,  3,  0],\n",
       "        [ 6,  3,  0],\n",
       "        [ 6,  3,  0],\n",
       "        ...,\n",
       "        [ 8,  4,  3],\n",
       "        [ 7,  3,  2],\n",
       "        [ 8,  3,  2]],\n",
       "\n",
       "       [[ 6,  3,  0],\n",
       "        [ 6,  3,  0],\n",
       "        [ 6,  3,  0],\n",
       "        ...,\n",
       "        [ 7,  3,  2],\n",
       "        [ 7,  3,  2],\n",
       "        [ 8,  3,  2]]], dtype=uint8)"
      ]
     },
     "execution_count": 3,
     "metadata": {},
     "output_type": "execute_result"
    }
   ],
   "source": [
    "img"
   ]
  },
  {
   "cell_type": "code",
   "execution_count": 4,
   "id": "b48f0880",
   "metadata": {},
   "outputs": [
    {
     "data": {
      "text/plain": [
       "(576, 473, 3)"
      ]
     },
     "execution_count": 4,
     "metadata": {},
     "output_type": "execute_result"
    }
   ],
   "source": [
    "img.shape"
   ]
  },
  {
   "cell_type": "code",
   "execution_count": 5,
   "id": "f7c41888",
   "metadata": {},
   "outputs": [],
   "source": [
    "cv2.imshow(\"Legend\",img)\n",
    "cv2.waitKey()\n",
    "cv2.destroyAllWindows()"
   ]
  },
  {
   "cell_type": "code",
   "execution_count": 6,
   "id": "770f276e",
   "metadata": {},
   "outputs": [
    {
     "data": {
      "text/plain": [
       "array([[[81, 92, 82],\n",
       "        [81, 92, 82],\n",
       "        [81, 92, 82],\n",
       "        ...,\n",
       "        [79, 90, 82],\n",
       "        [78, 89, 81],\n",
       "        [75, 86, 78]],\n",
       "\n",
       "       [[81, 92, 82],\n",
       "        [81, 92, 82],\n",
       "        [81, 92, 82],\n",
       "        ...,\n",
       "        [79, 90, 82],\n",
       "        [78, 89, 81],\n",
       "        [75, 86, 78]],\n",
       "\n",
       "       [[81, 92, 82],\n",
       "        [81, 92, 82],\n",
       "        [80, 91, 81],\n",
       "        ...,\n",
       "        [79, 90, 82],\n",
       "        [78, 89, 81],\n",
       "        [75, 86, 78]],\n",
       "\n",
       "       ...,\n",
       "\n",
       "       [[ 6,  3,  0],\n",
       "        [ 6,  3,  0],\n",
       "        [ 6,  3,  0],\n",
       "        ...,\n",
       "        [ 7,  3,  2],\n",
       "        [ 7,  3,  2],\n",
       "        [ 8,  3,  2]],\n",
       "\n",
       "       [[ 6,  3,  0],\n",
       "        [ 6,  3,  0],\n",
       "        [ 6,  3,  0],\n",
       "        ...,\n",
       "        [ 7,  3,  2],\n",
       "        [ 7,  3,  2],\n",
       "        [ 8,  3,  2]],\n",
       "\n",
       "       [[ 6,  3,  0],\n",
       "        [ 6,  3,  0],\n",
       "        [ 6,  3,  0],\n",
       "        ...,\n",
       "        [ 7,  3,  2],\n",
       "        [ 7,  3,  2],\n",
       "        [ 8,  3,  2]]], dtype=uint8)"
      ]
     },
     "execution_count": 6,
     "metadata": {},
     "output_type": "execute_result"
    }
   ],
   "source": [
    " resized = cv2.resize(img,(600,600))\n",
    "resized"
   ]
  },
  {
   "cell_type": "code",
   "execution_count": 7,
   "id": "696a1471",
   "metadata": {},
   "outputs": [],
   "source": [
    "cv2.imshow(\"Legend\",resized)\n",
    "cv2.waitKey(2000)\n",
    "cv2.destroyAllWindows()\n"
   ]
  },
  {
   "cell_type": "code",
   "execution_count": 8,
   "id": "c67b7e2b",
   "metadata": {},
   "outputs": [],
   "source": [
    "face_cascade = cv2.CascadeClassifier(cv2.data.haarcascades + \"haarcascade_frontalface_default.xml\")\n"
   ]
  },
  {
   "cell_type": "code",
   "execution_count": 9,
   "id": "ba7ecd71",
   "metadata": {},
   "outputs": [],
   "source": [
    "gray_img = cv2.cvtColor(img, cv2.COLOR_BGR2GRAY)\n"
   ]
  },
  {
   "cell_type": "code",
   "execution_count": 10,
   "id": "f4a6b432",
   "metadata": {},
   "outputs": [],
   "source": [
    "faces = face_cascade.detectMultiScale(gray_img,scaleFactor = 1.05, minNeighbors = 5)\n"
   ]
  },
  {
   "cell_type": "code",
   "execution_count": 11,
   "id": "0c5ce60d",
   "metadata": {},
   "outputs": [],
   "source": [
    "for x,y,w,h in faces:\n",
    "    img = cv2.rectangle(img,(x,y),(x+w,y+h),(0,255,0),3)"
   ]
  },
  {
   "cell_type": "code",
   "execution_count": 12,
   "id": "e39a7770",
   "metadata": {},
   "outputs": [],
   "source": [
    " resized = cv2.resize(img,(600,600))"
   ]
  },
  {
   "cell_type": "code",
   "execution_count": 13,
   "id": "33768e86",
   "metadata": {},
   "outputs": [],
   "source": [
    "cv2.imshow(\"Gray\", resized)\n",
    "cv2.waitKey(0)\n",
    "cv2.destroyAllWindows()"
   ]
  },
  {
   "cell_type": "code",
   "execution_count": null,
   "id": "3266bcbf",
   "metadata": {},
   "outputs": [],
   "source": []
  },
  {
   "cell_type": "code",
   "execution_count": null,
   "id": "5ddab73d",
   "metadata": {},
   "outputs": [],
   "source": []
  },
  {
   "cell_type": "code",
   "execution_count": null,
   "id": "139c0bdc",
   "metadata": {},
   "outputs": [],
   "source": []
  }
 ],
 "metadata": {
  "kernelspec": {
   "display_name": "Python 3 (ipykernel)",
   "language": "python",
   "name": "python3"
  },
  "language_info": {
   "codemirror_mode": {
    "name": "ipython",
    "version": 3
   },
   "file_extension": ".py",
   "mimetype": "text/x-python",
   "name": "python",
   "nbconvert_exporter": "python",
   "pygments_lexer": "ipython3",
   "version": "3.9.6"
  }
 },
 "nbformat": 4,
 "nbformat_minor": 5
}
