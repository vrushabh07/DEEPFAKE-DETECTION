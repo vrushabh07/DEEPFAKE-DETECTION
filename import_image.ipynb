{
 "cells": [
  {
   "cell_type": "code",
   "execution_count": 5,
   "id": "e347c521",
   "metadata": {},
   "outputs": [
    {
     "name": "stderr",
     "output_type": "stream",
     "text": [
      "ERROR: Could not find a version that satisfies the requirement opencv (from versions: none)\n",
      "ERROR: No matching distribution found for opencv\n"
     ]
    }
   ],
   "source": [
    "!pip install opencv"
   ]
  },
  {
   "cell_type": "code",
   "execution_count": 16,
   "id": "8f505a2d",
   "metadata": {},
   "outputs": [],
   "source": [
    "import cv2 \n",
    "import numpy as np"
   ]
  },
  {
   "cell_type": "code",
   "execution_count": 17,
   "id": "724b0dd0",
   "metadata": {},
   "outputs": [],
   "source": [
    "img = cv2.imread(\"C:\\\\Users\\\\shrim\\\\Favorites\\\\Downloads\\\\WhatsApp Image 2021-12-04 at 16.50.13.jpeg\",1)"
   ]
  },
  {
   "cell_type": "code",
   "execution_count": 18,
   "id": "12150fe5",
   "metadata": {},
   "outputs": [
    {
     "data": {
      "text/plain": [
       "array([[[63, 66, 64],\n",
       "        [60, 63, 61],\n",
       "        [54, 57, 55],\n",
       "        ...,\n",
       "        [22, 23, 21],\n",
       "        [22, 23, 21],\n",
       "        [22, 23, 21]],\n",
       "\n",
       "       [[55, 58, 56],\n",
       "        [52, 55, 53],\n",
       "        [48, 51, 49],\n",
       "        ...,\n",
       "        [22, 23, 21],\n",
       "        [22, 23, 21],\n",
       "        [22, 23, 21]],\n",
       "\n",
       "       [[50, 53, 51],\n",
       "        [48, 51, 49],\n",
       "        [46, 49, 47],\n",
       "        ...,\n",
       "        [22, 23, 21],\n",
       "        [22, 23, 21],\n",
       "        [22, 23, 21]],\n",
       "\n",
       "       ...,\n",
       "\n",
       "       [[20, 18, 18],\n",
       "        [20, 18, 18],\n",
       "        [19, 17, 17],\n",
       "        ...,\n",
       "        [23, 23, 23],\n",
       "        [23, 23, 23],\n",
       "        [22, 22, 22]],\n",
       "\n",
       "       [[20, 18, 18],\n",
       "        [20, 18, 18],\n",
       "        [20, 18, 18],\n",
       "        ...,\n",
       "        [23, 23, 23],\n",
       "        [23, 23, 23],\n",
       "        [23, 23, 23]],\n",
       "\n",
       "       [[20, 18, 18],\n",
       "        [20, 18, 18],\n",
       "        [20, 18, 18],\n",
       "        ...,\n",
       "        [23, 23, 23],\n",
       "        [23, 23, 23],\n",
       "        [23, 23, 23]]], dtype=uint8)"
      ]
     },
     "execution_count": 18,
     "metadata": {},
     "output_type": "execute_result"
    }
   ],
   "source": [
    "img"
   ]
  },
  {
   "cell_type": "code",
   "execution_count": 19,
   "id": "b48f0880",
   "metadata": {},
   "outputs": [
    {
     "data": {
      "text/plain": [
       "(1600, 1300, 3)"
      ]
     },
     "execution_count": 19,
     "metadata": {},
     "output_type": "execute_result"
    }
   ],
   "source": [
    "img.shape"
   ]
  },
  {
   "cell_type": "code",
   "execution_count": 20,
   "id": "f7c41888",
   "metadata": {},
   "outputs": [],
   "source": [
    "cv2.imshow(\"Legend\",img)\n",
    "cv2.waitKey()\n",
    "cv2.destroyAllWindows()"
   ]
  },
  {
   "cell_type": "code",
   "execution_count": 21,
   "id": "770f276e",
   "metadata": {},
   "outputs": [
    {
     "data": {
      "text/plain": [
       "array([[[54, 57, 55],\n",
       "        [46, 49, 47],\n",
       "        [52, 55, 53],\n",
       "        ...,\n",
       "        [22, 23, 21],\n",
       "        [22, 23, 21],\n",
       "        [22, 23, 21]],\n",
       "\n",
       "       [[55, 58, 56],\n",
       "        [52, 55, 53],\n",
       "        [54, 57, 55],\n",
       "        ...,\n",
       "        [23, 24, 22],\n",
       "        [22, 23, 21],\n",
       "        [22, 23, 21]],\n",
       "\n",
       "       [[63, 66, 64],\n",
       "        [57, 60, 58],\n",
       "        [64, 67, 65],\n",
       "        ...,\n",
       "        [24, 25, 23],\n",
       "        [22, 23, 21],\n",
       "        [22, 23, 21]],\n",
       "\n",
       "       ...,\n",
       "\n",
       "       [[24, 22, 22],\n",
       "        [23, 21, 21],\n",
       "        [22, 20, 20],\n",
       "        ...,\n",
       "        [22, 22, 22],\n",
       "        [22, 22, 22],\n",
       "        [21, 21, 21]],\n",
       "\n",
       "       [[21, 19, 19],\n",
       "        [20, 18, 18],\n",
       "        [19, 17, 17],\n",
       "        ...,\n",
       "        [22, 22, 22],\n",
       "        [23, 23, 23],\n",
       "        [22, 22, 22]],\n",
       "\n",
       "       [[20, 18, 18],\n",
       "        [19, 17, 17],\n",
       "        [19, 17, 17],\n",
       "        ...,\n",
       "        [22, 22, 22],\n",
       "        [23, 23, 23],\n",
       "        [23, 23, 23]]], dtype=uint8)"
      ]
     },
     "execution_count": 21,
     "metadata": {},
     "output_type": "execute_result"
    }
   ],
   "source": [
    " resized = cv2.resize(img,(600,600))\n",
    "resized"
   ]
  },
  {
   "cell_type": "code",
   "execution_count": 22,
   "id": "3b27c44e",
   "metadata": {},
   "outputs": [],
   "source": [
    "cv2.imshow(\"Legend\",resized)\n",
    "cv2.waitKey(2000)\n",
    "cv2.destroyAllWindows()"
   ]
  },
  {
   "cell_type": "code",
   "execution_count": null,
   "id": "cff1c8f4",
   "metadata": {},
   "outputs": [],
   "source": []
  },
  {
   "cell_type": "code",
   "execution_count": null,
   "id": "f3cb04ed",
   "metadata": {},
   "outputs": [],
   "source": []
  }
 ],
 "metadata": {
  "kernelspec": {
   "display_name": "Python 3 (ipykernel)",
   "language": "python",
   "name": "python3"
  },
  "language_info": {
   "codemirror_mode": {
    "name": "ipython",
    "version": 3
   },
   "file_extension": ".py",
   "mimetype": "text/x-python",
   "name": "python",
   "nbconvert_exporter": "python",
   "pygments_lexer": "ipython3",
   "version": "3.9.6"
  }
 },
 "nbformat": 4,
 "nbformat_minor": 5
}
